{
 "cells": [
  {
   "cell_type": "markdown",
   "metadata": {},
   "source": [
    "adding header to the data files:"
   ]
  },
  {
   "cell_type": "code",
   "execution_count": null,
   "metadata": {},
   "outputs": [],
   "source": [
    "import pandas as pd\n",
    "\n",
    "# Define the column names\n",
    "movie_header = [\n",
    "    \"Wikipedia movie ID\", \"Freebase movie ID\", \"Name\", \n",
    "    \"Release date\", \"Box office revenue\", \n",
    "    \"Runtime\", \"Languages\", \"Countries\", \"Genres\"\n",
    "]\n",
    "characters_header = [\n",
    "    \"Wikipedia movie ID\", \"Freebase movie ID\", \"Release date\", \n",
    "    \"Character name\", \"Actor date of birth\", \"Actor gender\", \n",
    "    \"Actor height(meters)\", \"Actor ethnicity\", \"Actor name\", \n",
    "    \"Actor age at release\", \"Freebase character/actor map ID\", \n",
    "    \"Freebase character ID\", \"Freebase actor ID\"\n",
    "]\n",
    "\n",
    "# Read the TSV file without headers\n",
    "movies = pd.read_csv(\"../../data/MovieSummaries/movie.metadata.tsv\", sep='\\t', header=None, names=movie_header)\n",
    "characters = pd.read_csv(\"../../data/MovieSummaries/character.metadata.tsv\", sep='\\t', header=None, names=characters_header)\n",
    "summaries = pd.read_csv(\"../../data/MovieSummaries/plot_summaries.txt\", sep='\\t', header=None, names=['Wikipedia movie ID', 'Summary'])\n",
    "\n",
    "# Save the file with headers\n",
    "movies.to_csv(\"../../data/MovieSummaries/movie.metadata.tsv\", sep='\\t', index=False)\n",
    "characters.to_csv(\"../../data/MovieSummaries/character.metadata.tsv\", sep='\\t', index=False)\n",
    "summaries.to_csv(\"../../data/MovieSummaries/plot_summaries.txt\", sep='\\t', index=False)\n"
   ]
  },
  {
   "cell_type": "markdown",
   "metadata": {},
   "source": []
  }
 ],
 "metadata": {
  "kernelspec": {
   "display_name": "ada",
   "language": "python",
   "name": "python3"
  },
  "language_info": {
   "codemirror_mode": {
    "name": "ipython",
    "version": 3
   },
   "file_extension": ".py",
   "mimetype": "text/x-python",
   "name": "python",
   "nbconvert_exporter": "python",
   "pygments_lexer": "ipython3",
   "version": "3.11.9"
  }
 },
 "nbformat": 4,
 "nbformat_minor": 2
}
