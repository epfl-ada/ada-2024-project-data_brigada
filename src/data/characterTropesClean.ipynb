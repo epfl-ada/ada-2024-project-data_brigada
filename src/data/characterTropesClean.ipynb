{
 "cells": [
  {
   "cell_type": "code",
   "execution_count": 82,
   "metadata": {},
   "outputs": [],
   "source": [
    "import numpy as np\n",
    "import pandas as pd\n",
    "import json\n",
    "import matplotlib.pyplot as plt\n",
    "import nltk\n",
    "\n",
    "import seaborn as sns\n"
   ]
  },
  {
   "cell_type": "markdown",
   "metadata": {},
   "source": [
    "## This files cleans the different files needed to get the description of a character (Character Type) and it's gender"
   ]
  },
  {
   "cell_type": "code",
   "execution_count": 57,
   "metadata": {},
   "outputs": [],
   "source": [
    "dataPath = '../../data/MovieSummaries/'\n",
    "df_summaries = pd.read_csv( dataPath + 'plot_summaries.txt', sep='\\t', header=None, names=['id', 'resume'])\n",
    "df_name_cluster = pd.read_csv( dataPath + 'name.clusters.txt', sep='\\t', header=None, names=['Character Name', 'ID'])\n",
    "df_tvtropes_cluster = pd.read_csv( dataPath + 'tvtropes.clusters.txt', sep='\\t', header=None, names=['Character Type', 'ID'])"
   ]
  },
  {
   "cell_type": "code",
   "execution_count": 58,
   "metadata": {},
   "outputs": [
    {
     "data": {
      "text/html": [
       "<div>\n",
       "<style scoped>\n",
       "    .dataframe tbody tr th:only-of-type {\n",
       "        vertical-align: middle;\n",
       "    }\n",
       "\n",
       "    .dataframe tbody tr th {\n",
       "        vertical-align: top;\n",
       "    }\n",
       "\n",
       "    .dataframe thead th {\n",
       "        text-align: right;\n",
       "    }\n",
       "</style>\n",
       "<table border=\"1\" class=\"dataframe\">\n",
       "  <thead>\n",
       "    <tr style=\"text-align: right;\">\n",
       "      <th></th>\n",
       "      <th>Character Type</th>\n",
       "      <th>Character Name</th>\n",
       "      <th>Movie</th>\n",
       "      <th>ID</th>\n",
       "      <th>Actor</th>\n",
       "    </tr>\n",
       "  </thead>\n",
       "  <tbody>\n",
       "    <tr>\n",
       "      <th>0</th>\n",
       "      <td>absent_minded_professor</td>\n",
       "      <td>Professor Philip Brainard</td>\n",
       "      <td>Flubber</td>\n",
       "      <td>/m/0jy9q0</td>\n",
       "      <td>Robin Williams</td>\n",
       "    </tr>\n",
       "    <tr>\n",
       "      <th>1</th>\n",
       "      <td>absent_minded_professor</td>\n",
       "      <td>Professor Keenbean</td>\n",
       "      <td>Richie Rich</td>\n",
       "      <td>/m/02vchl3</td>\n",
       "      <td>Michael McShane</td>\n",
       "    </tr>\n",
       "  </tbody>\n",
       "</table>\n",
       "</div>"
      ],
      "text/plain": [
       "            Character Type             Character Name        Movie  \\\n",
       "0  absent_minded_professor  Professor Philip Brainard      Flubber   \n",
       "1  absent_minded_professor         Professor Keenbean  Richie Rich   \n",
       "\n",
       "           ID            Actor  \n",
       "0   /m/0jy9q0   Robin Williams  \n",
       "1  /m/02vchl3  Michael McShane  "
      ]
     },
     "execution_count": 58,
     "metadata": {},
     "output_type": "execute_result"
    }
   ],
   "source": [
    "# Extract character details from the ID column, ID in JSON format\n",
    "def character_details(row):\n",
    "    character_info = json.loads(row['ID'])\n",
    "    return pd.Series({\n",
    "        'Character Name': character_info.get('char'),\n",
    "        'Movie': character_info.get('movie'),\n",
    "        'ID': character_info.get('id'),\n",
    "        'Actor': character_info.get('actor')\n",
    "    })\n",
    "\n",
    "character_details_df = df_tvtropes_cluster.apply(character_details, axis=1)\n",
    "df_tvtropes_detail = pd.concat([df_tvtropes_cluster[['Character Type']], character_details_df], axis=1)\n",
    "df_tvtropes_detail.head(2)"
   ]
  },
  {
   "cell_type": "code",
   "execution_count": 59,
   "metadata": {},
   "outputs": [
    {
     "name": "stderr",
     "output_type": "stream",
     "text": [
      "C:\\Users\\laeti\\AppData\\Local\\Temp\\ipykernel_21220\\3329848000.py:2: DtypeWarning: Columns (0,4,5) have mixed types. Specify dtype option on import or set low_memory=False.\n",
      "  movie_metadata_df = pd.read_csv(\n",
      "C:\\Users\\laeti\\AppData\\Local\\Temp\\ipykernel_21220\\3329848000.py:13: DtypeWarning: Columns (0,6,9) have mixed types. Specify dtype option on import or set low_memory=False.\n",
      "  character_metadata_df = pd.read_csv(\n"
     ]
    }
   ],
   "source": [
    "#load movie.metadata.tsv\n",
    "movie_metadata_df = pd.read_csv(\n",
    "    dataPath + 'movie.metadata.tsv',\n",
    "    sep='\\t',\n",
    "    names=[\n",
    "        'Wikipedia_movie_ID', 'Freebase_movie_ID', 'Movie_name', 'Release_date', \n",
    "        'Box_office_revenue', 'Runtime', 'Languages', 'Countries', 'Genres'\n",
    "    ],\n",
    "    encoding='utf-8'\n",
    ")\n",
    "\n",
    "# Load character.metadata.tsv\n",
    "character_metadata_df = pd.read_csv(\n",
    "    dataPath + 'character.metadata.tsv',\n",
    "    sep='\\t',\n",
    "    names=[\n",
    "        'Wikipedia_movie_ID', 'Freebase_movie_ID', 'Release_date', 'Character_name', \n",
    "        'Actor_DOB', 'Actor_gender', 'Actor_height', 'Actor_ethnicity', 'Actor_name', \n",
    "        'Actor_age_at_release', 'Freebase_char_actor_map_ID', 'Freebase_character_ID', \n",
    "        'Freebase_actor_ID'\n",
    "    ],\n",
    "    encoding='utf-8'\n",
    ")"
   ]
  },
  {
   "cell_type": "code",
   "execution_count": 60,
   "metadata": {},
   "outputs": [],
   "source": [
    "# Clean the way countries are listed\n",
    "movie_metadata_df['Countries'] = movie_metadata_df['Countries'].str.replace(r'/m/\\w+\":\\s*\"([^\"]+)\"', r'\\1', regex=True)\n",
    "\n",
    "# Remove any remaining extra characters like commas and quotes after initial replace\n",
    "movie_metadata_df['Countries'] = movie_metadata_df['Countries'].str.replace(r'\"\\s*,\\s*\"', ', ', regex=True)\n",
    "\n",
    "# Remove quotation marks and braces\n",
    "movie_metadata_df['Countries'] = movie_metadata_df['Countries'].str.replace(r'[{\"}]', '', regex=True)\n",
    "movie_metadata_df['Countries'] = movie_metadata_df['Countries'].str.replace(r'\\s*,\\s*\"', ', ', regex=True)\n",
    "\n",
    "countries_list = movie_metadata_df['Countries'].unique()\n",
    "\n",
    "#problem of different names for the same country"
   ]
  },
  {
   "cell_type": "code",
   "execution_count": 61,
   "metadata": {},
   "outputs": [],
   "source": [
    "# Clean the way countries are listed\n",
    "movie_metadata_df['Genres'] = movie_metadata_df['Genres'].str.replace(r'/m/\\w+\":\\s*\"([^\"]+)\"', r'\\1', regex=True)\n",
    "\n",
    "movie_metadata_df['Genres'] = movie_metadata_df['Genres'].str.replace(r'\"\\s*,\\s*\"', ', ', regex=True)\n",
    "\n",
    "movie_metadata_df['Genres'] = movie_metadata_df['Genres'].str.replace(r'[{\"}]', '', regex=True)\n",
    "movie_metadata_df['Genres'] = movie_metadata_df['Genres'].str.replace(r'\\s*,\\s*\"', ', ', regex=True)"
   ]
  },
  {
   "cell_type": "code",
   "execution_count": 62,
   "metadata": {},
   "outputs": [],
   "source": [
    "character_metadata_types = character_metadata_df.groupby('Actor_name')['Character_name'].unique()\n",
    "character_metadata_types  = character_metadata_types.apply(lambda x: len(x)).sort_values(ascending=False)"
   ]
  },
  {
   "cell_type": "code",
   "execution_count": 63,
   "metadata": {},
   "outputs": [
    {
     "data": {
      "text/html": [
       "<div>\n",
       "<style scoped>\n",
       "    .dataframe tbody tr th:only-of-type {\n",
       "        vertical-align: middle;\n",
       "    }\n",
       "\n",
       "    .dataframe tbody tr th {\n",
       "        vertical-align: top;\n",
       "    }\n",
       "\n",
       "    .dataframe thead th {\n",
       "        text-align: right;\n",
       "    }\n",
       "</style>\n",
       "<table border=\"1\" class=\"dataframe\">\n",
       "  <thead>\n",
       "    <tr style=\"text-align: right;\">\n",
       "      <th></th>\n",
       "      <th>Character Type</th>\n",
       "      <th>Character Name</th>\n",
       "      <th>Movie</th>\n",
       "      <th>ID</th>\n",
       "      <th>Actor</th>\n",
       "    </tr>\n",
       "  </thead>\n",
       "  <tbody>\n",
       "    <tr>\n",
       "      <th>0</th>\n",
       "      <td>absent minded professor</td>\n",
       "      <td>Professor Philip Brainard</td>\n",
       "      <td>Flubber</td>\n",
       "      <td>/m/0jy9q0</td>\n",
       "      <td>Robin Williams</td>\n",
       "    </tr>\n",
       "    <tr>\n",
       "      <th>1</th>\n",
       "      <td>absent minded professor</td>\n",
       "      <td>Professor Keenbean</td>\n",
       "      <td>Richie Rich</td>\n",
       "      <td>/m/02vchl3</td>\n",
       "      <td>Michael McShane</td>\n",
       "    </tr>\n",
       "  </tbody>\n",
       "</table>\n",
       "</div>"
      ],
      "text/plain": [
       "            Character Type             Character Name        Movie  \\\n",
       "0  absent minded professor  Professor Philip Brainard      Flubber   \n",
       "1  absent minded professor         Professor Keenbean  Richie Rich   \n",
       "\n",
       "           ID            Actor  \n",
       "0   /m/0jy9q0   Robin Williams  \n",
       "1  /m/02vchl3  Michael McShane  "
      ]
     },
     "execution_count": 63,
     "metadata": {},
     "output_type": "execute_result"
    }
   ],
   "source": [
    "#get all character types per actor\n",
    "actor_character_types = df_tvtropes_detail.groupby('Actor')['Character Type'].unique()\n",
    "df_tvtropes_detail[\"Character Type\"] = df_tvtropes_detail[\"Character Type\"].str.replace('_', ' ')\n",
    "df_tvtropes_detail.head(2)"
   ]
  },
  {
   "cell_type": "code",
   "execution_count": 64,
   "metadata": {},
   "outputs": [
    {
     "data": {
      "text/plain": [
       "0         Actor date of birth\n",
       "1                  1958-08-26\n",
       "2                  1974-08-15\n",
       "3                  1969-06-15\n",
       "4                  1967-09-12\n",
       "                 ...         \n",
       "450665                1970-05\n",
       "450666             1965-04-12\n",
       "450667             1941-11-18\n",
       "450668                    NaN\n",
       "450669                    NaN\n",
       "Name: Actor_DOB, Length: 450670, dtype: object"
      ]
     },
     "execution_count": 64,
     "metadata": {},
     "output_type": "execute_result"
    }
   ],
   "source": [
    "character_metadata_df['Actor_DOB']"
   ]
  },
  {
   "cell_type": "code",
   "execution_count": 66,
   "metadata": {},
   "outputs": [],
   "source": [
    "# Convert Release_date and Actor_DOB to datetime with errors are NaN\n",
    "character_metadata_df['Release_date'] = pd.to_datetime(character_metadata_df['Release_date'], errors='coerce')\n",
    "character_metadata_df['Actor_DOB'] = pd.to_datetime(character_metadata_df['Actor_DOB'], errors='coerce')\n",
    "\n",
    "# Extract year, month, and day from Release_date\n",
    "character_metadata_df['Release_year'] = character_metadata_df['Release_date'].dt.year\n",
    "character_metadata_df['Release_month'] = character_metadata_df['Release_date'].dt.month\n",
    "character_metadata_df['Release_day'] = character_metadata_df['Release_date'].dt.day\n",
    "\n",
    "# Extract year, month, and day from Actor_DOB\n",
    "character_metadata_df['Actor_DOB_year'] = character_metadata_df['Actor_DOB'].dt.year\n",
    "character_metadata_df['Actor_DOB_month'] = character_metadata_df['Actor_DOB'].dt.month\n",
    "character_metadata_df['Actor_DOB_day'] = character_metadata_df['Actor_DOB'].dt.day"
   ]
  },
  {
   "cell_type": "code",
   "execution_count": 67,
   "metadata": {},
   "outputs": [
    {
     "data": {
      "text/plain": [
       "Actor_gender\n",
       "M               270257\n",
       "F               134803\n",
       "Actor gender         1\n",
       "Name: count, dtype: int64"
      ]
     },
     "execution_count": 67,
     "metadata": {},
     "output_type": "execute_result"
    }
   ],
   "source": [
    "#check gender values\n",
    "gender = character_metadata_df['Actor_gender'].value_counts()\n",
    "gender"
   ]
  },
  {
   "cell_type": "markdown",
   "metadata": {},
   "source": [
    "# clean height values"
   ]
  },
  {
   "cell_type": "code",
   "execution_count": 68,
   "metadata": {},
   "outputs": [
    {
     "data": {
      "text/plain": [
       "count     396.000000\n",
       "mean      390.972222\n",
       "std      1088.540906\n",
       "min         1.000000\n",
       "25%         5.000000\n",
       "50%        26.500000\n",
       "75%       194.000000\n",
       "max      7180.000000\n",
       "Name: count, dtype: float64"
      ]
     },
     "execution_count": 68,
     "metadata": {},
     "output_type": "execute_result"
    }
   ],
   "source": [
    "#describe height of actors, check values\n",
    "height = character_metadata_df['Actor_height'].value_counts()\n",
    "height.describe()"
   ]
  },
  {
   "cell_type": "code",
   "execution_count": 69,
   "metadata": {},
   "outputs": [],
   "source": [
    "character_metadata_df['Actor_height'] = pd.to_numeric(character_metadata_df['Actor_height'], errors='coerce')"
   ]
  },
  {
   "cell_type": "code",
   "execution_count": 70,
   "metadata": {},
   "outputs": [
    {
     "data": {
      "text/plain": [
       "count    154813.000000\n",
       "mean          1.752783\n",
       "std           0.912266\n",
       "min           0.610000\n",
       "25%           1.676400\n",
       "50%           1.750000\n",
       "75%           1.830000\n",
       "max         180.000000\n",
       "Name: Actor_height, dtype: float64"
      ]
     },
     "execution_count": 70,
     "metadata": {},
     "output_type": "execute_result"
    }
   ],
   "source": [
    "#value over 250 are not possible, remove them\n",
    "character_metadata_df = character_metadata_df[character_metadata_df['Actor_height'] < 250]\n",
    "character_metadata_df['Actor_height'].describe()"
   ]
  },
  {
   "cell_type": "code",
   "execution_count": 71,
   "metadata": {},
   "outputs": [
    {
     "data": {
      "text/plain": [
       "count    154813.000000\n",
       "mean        174.817854\n",
       "std          10.624813\n",
       "min          61.000000\n",
       "25%         167.640000\n",
       "50%         175.000000\n",
       "75%         183.000000\n",
       "max         235.600000\n",
       "Name: Actor_height, dtype: float64"
      ]
     },
     "execution_count": 71,
     "metadata": {},
     "output_type": "execute_result"
    }
   ],
   "source": [
    "#if the height is less than 250, it is probably in m --> we convert it to cm\n",
    "character_metadata_df['Actor_height'] = np.where(character_metadata_df['Actor_height'] < 2.5, character_metadata_df['Actor_height']*100, character_metadata_df['Actor_height'])\n",
    "character_metadata_df['Actor_height'].describe()"
   ]
  },
  {
   "cell_type": "code",
   "execution_count": 72,
   "metadata": {},
   "outputs": [
    {
     "data": {
      "text/plain": [
       "Text(0.5, 1.0, 'Boxplot of Actor Height by gender')"
      ]
     },
     "execution_count": 72,
     "metadata": {},
     "output_type": "execute_result"
    },
    {
     "data": {
      "image/png": "[encoded data removed]",
      "text/plain": [
       "<Figure size 640x480 with 1 Axes>"
      ]
     },
     "metadata": {},
     "output_type": "display_data"
    }
   ],
   "source": [
    "#boxplot of height based on gender to check data distribution\n",
    "character_metadata_df.boxplot(column='Actor_height', by='Actor_gender')\n",
    "plt.title('Boxplot of Actor Height by gender')"
   ]
  },
  {
   "cell_type": "code",
   "execution_count": 73,
   "metadata": {},
   "outputs": [
    {
     "data": {
      "image/png": "[encoded data removed]",
      "text/plain": [
       "<Figure size 640x480 with 1 Axes>"
      ]
     },
     "metadata": {},
     "output_type": "display_data"
    }
   ],
   "source": [
    "#print size of actor_age_at_release < 0 --> not possible\n",
    "character_metadata_df['Actor_age_at_release']= pd.to_numeric(character_metadata_df['Actor_age_at_release'], errors='coerce')\n",
    "strange = character_metadata_df[character_metadata_df['Actor_age_at_release'] < 0]\n",
    "#drop lines with actor_age_at_release < 0 --> certainly inversion of birth and release date\n",
    "character_metadata_df = character_metadata_df[character_metadata_df['Actor_age_at_release'] >= 0]\n",
    "plt.hist(character_metadata_df['Actor_age_at_release'], bins=100)\n",
    "plt.title('Distribution of Actor Age at Release')\n",
    "plt.xlabel('Actor Age at Release')\n",
    "plt.ylabel('Frequency')\n",
    "plt.show()"
   ]
  },
  {
   "cell_type": "code",
   "execution_count": 74,
   "metadata": {},
   "outputs": [
    {
     "data": {
      "text/plain": [
       "count    139646.000000\n",
       "mean         37.339867\n",
       "std          13.807819\n",
       "min           0.000000\n",
       "25%          27.000000\n",
       "50%          35.000000\n",
       "75%          46.000000\n",
       "max          96.000000\n",
       "Name: Actor_age_at_release, dtype: float64"
      ]
     },
     "execution_count": 74,
     "metadata": {},
     "output_type": "execute_result"
    }
   ],
   "source": [
    "character_metadata_df['Actor_age_at_release'].describe()"
   ]
  },
  {
   "cell_type": "code",
   "execution_count": 75,
   "metadata": {},
   "outputs": [
    {
     "data": {
      "text/plain": [
       "count    139646.000000\n",
       "mean       1991.684696\n",
       "std          19.519789\n",
       "min        1909.000000\n",
       "25%        1984.000000\n",
       "50%        1999.000000\n",
       "75%        2006.000000\n",
       "max        2016.000000\n",
       "Name: Release_year, dtype: float64"
      ]
     },
     "execution_count": 75,
     "metadata": {},
     "output_type": "execute_result"
    }
   ],
   "source": [
    "#first film in 1888 so okey range\n",
    "character_metadata_df['Release_year'].describe() \n"
   ]
  },
  {
   "cell_type": "code",
   "execution_count": 76,
   "metadata": {},
   "outputs": [
    {
     "data": {
      "image/png": "[encoded data removed]",
      "text/plain": [
       "<Figure size 640x480 with 1 Axes>"
      ]
     },
     "metadata": {},
     "output_type": "display_data"
    }
   ],
   "source": [
    "plt.hist(character_metadata_df['Release_year'], bins=100)\n",
    "plt.title('Distribution of Release Year')\n",
    "plt.xlabel('Actor Age at Release')\n",
    "plt.ylabel('Frequency')\n",
    "plt.show()"
   ]
  },
  {
   "cell_type": "code",
   "execution_count": 77,
   "metadata": {},
   "outputs": [
    {
     "data": {
      "image/png": "[encoded data removed]",
      "text/plain": [
       "<Figure size 640x480 with 1 Axes>"
      ]
     },
     "metadata": {},
     "output_type": "display_data"
    }
   ],
   "source": [
    "#plot mean age of actors at release year\n",
    "mean_age = character_metadata_df.groupby('Release_year')['Actor_age_at_release'].mean()\n",
    "plt.plot(mean_age)\n",
    "plt.title('Mean Actor Age at Release Year')\n",
    "plt.xlabel('Release Year')\n",
    "plt.ylabel('Mean Actor Age at Release')\n",
    "plt.show()"
   ]
  },
  {
   "cell_type": "markdown",
   "metadata": {},
   "source": [
    "## After having cleaner data, we merge the different datasets to get the one desired"
   ]
  },
  {
   "cell_type": "code",
   "execution_count": 78,
   "metadata": {},
   "outputs": [],
   "source": [
    "# Merge character metadata with summaries on Wikipedia_movie_ID/id\n",
    "character_movie_data = character_metadata_df.merge(movie_metadata_df, left_on=\"Wikipedia_movie_ID\", right_on=\"Wikipedia_movie_ID\", how=\"inner\")\n",
    "\n",
    "#only keep Wikipedia_movie_ID, Freebase_movie_ID_x, Character_name, Actor_name, Actor_age_at_release, Actor_gender, Actor_height, Actor_ethnicity, Age_at_release, Countries\n",
    "character_movie_data = character_movie_data[['Wikipedia_movie_ID', 'Freebase_movie_ID_x',\n",
    "       'Character_name', 'Actor_gender', 'Actor_height',\n",
    "       'Actor_ethnicity', 'Actor_name', 'Actor_age_at_release',\n",
    "       'Freebase_char_actor_map_ID', 'Freebase_character_ID',\n",
    "     'Release_year', 'Actor_DOB_year', 'Movie_name', 'Countries', 'Genres']]\n",
    "\n",
    "\n",
    "# Merge with tropes detail on character name or Freebase_character_ID (if IDs are compatible)\n",
    "character_full_description = character_movie_data.merge(df_tvtropes_detail, left_on=\"Freebase_char_actor_map_ID\", right_on=\"ID\", how=\"inner\")\n",
    "character_full_description.columns\n",
    "\n",
    "character_full_description = character_full_description[['Wikipedia_movie_ID', 'Freebase_movie_ID_x', 'Character_name',\n",
    "       'Actor_gender', 'Actor_height', 'Actor_ethnicity', 'Actor_name',\n",
    "       'Actor_age_at_release', 'Freebase_char_actor_map_ID',\n",
    "       'Freebase_character_ID', 'Release_year', 'Actor_DOB_year', 'Movie_name',\n",
    "       'Countries', 'Genres', 'Character Type', 'Movie']]"
   ]
  },
  {
   "cell_type": "code",
   "execution_count": 79,
   "metadata": {},
   "outputs": [
    {
     "data": {
      "text/plain": [
       "Index(['Wikipedia_movie_ID', 'Freebase_movie_ID_x', 'Character_name',\n",
       "       'Actor_gender', 'Actor_height', 'Actor_ethnicity', 'Actor_name',\n",
       "       'Actor_age_at_release', 'Freebase_char_actor_map_ID',\n",
       "       'Freebase_character_ID', 'Release_year', 'Actor_DOB_year', 'Movie_name',\n",
       "       'Countries', 'Genres', 'Character Type', 'Character Name', 'Movie',\n",
       "       'ID', 'Actor'],\n",
       "      dtype='object')"
      ]
     },
     "execution_count": 79,
     "metadata": {},
     "output_type": "execute_result"
    }
   ],
   "source": [
    "# Merge with tropes detail on character name or Freebase_character_ID (if IDs are compatible)\n",
    "character_name_only = character_movie_data.merge(df_tvtropes_detail, left_on=\"Actor_name\", right_on=\"Actor\", how=\"inner\")\n",
    "character_name_only.columns"
   ]
  },
  {
   "cell_type": "code",
   "execution_count": 80,
   "metadata": {},
   "outputs": [],
   "source": [
    "# Merge with tropes detail on character name or Freebase_character_ID (if IDs are compatible)\n",
    "character_name_only = character_movie_data.merge(df_tvtropes_detail, left_on=\"Actor_name\", right_on=\"Actor\", how=\"inner\")\n",
    "character_name_only.columns\n",
    "\n",
    "character_name_only = character_name_only[['Character Name',\n",
    "       'Actor_gender', 'Actor_height', 'Actor_ethnicity', 'Actor_name',\n",
    "       'Actor_DOB_year', 'Character Type']]"
   ]
  },
  {
   "cell_type": "code",
   "execution_count": 81,
   "metadata": {},
   "outputs": [
    {
     "name": "stdout",
     "output_type": "stream",
     "text": [
      "Number of Male Characters:  5534  Number of female characters 487\n"
     ]
    }
   ],
   "source": [
    "male_characters = character_name_only[character_name_only[\"Actor_gender\"] == 'M']\n",
    "female_characters = character_name_only[character_name_only[\"Actor_gender\"] == 'F']\n",
    "\n",
    "#count number of male and female\n",
    "print(\"Number of Male Characters: \", len(male_characters), \" Number of female characters\" , len(female_characters))"
   ]
  },
  {
   "cell_type": "code",
   "execution_count": 85,
   "metadata": {},
   "outputs": [
    {
     "name": "stderr",
     "output_type": "stream",
     "text": [
      "C:\\Users\\laeti\\AppData\\Local\\Temp\\ipykernel_21220\\2921476823.py:4: FutureWarning: \n",
      "\n",
      "`shade` is now deprecated in favor of `fill`; setting `fill=True`.\n",
      "This will become an error in seaborn v0.14.0; please update your code.\n",
      "\n",
      "  sns.kdeplot(male_characters['Actor_height'], color='cornflowerblue', label='Male', shade=True)\n",
      "C:\\Users\\laeti\\AppData\\Local\\Temp\\ipykernel_21220\\2921476823.py:5: FutureWarning: \n",
      "\n",
      "`shade` is now deprecated in favor of `fill`; setting `fill=True`.\n",
      "This will become an error in seaborn v0.14.0; please update your code.\n",
      "\n",
      "  sns.kdeplot(female_characters['Actor_height'], color='seagreen', label='Female', shade=True)\n"
     ]
    },
    {
     "data": {
      "image/png": "[encoded data removed]",
      "text/plain": [
       "<Figure size 640x480 with 1 Axes>"
      ]
     },
     "metadata": {},
     "output_type": "display_data"
    }
   ],
   "source": [
    "\n",
    "import seaborn as sns\n",
    "\n",
    "# Plot KDE for male and female actor ages at release\n",
    "sns.kdeplot(male_characters['Actor_height'], color='cornflowerblue', label='Male', shade=True)\n",
    "sns.kdeplot(female_characters['Actor_height'], color='seagreen', label='Female', shade=True)\n",
    "\n",
    "# Add labels and title\n",
    "plt.title('Actor Height distribution')\n",
    "plt.xlabel('Actor Height')\n",
    "plt.ylabel('Density')\n",
    "plt.legend()\n",
    "\n",
    "# Show plot\n",
    "plt.show()"
   ]
  },
  {
   "cell_type": "code",
   "execution_count": 87,
   "metadata": {},
   "outputs": [
    {
     "data": {
      "text/plain": [
       "count       7.000000\n",
       "mean     1951.428571\n",
       "std        29.714515\n",
       "min      1908.000000\n",
       "25%      1934.500000\n",
       "50%      1958.000000\n",
       "75%      1973.000000\n",
       "max      1979.000000\n",
       "Name: Actor_DOB_year, dtype: float64"
      ]
     },
     "execution_count": 87,
     "metadata": {},
     "output_type": "execute_result"
    }
   ],
   "source": [
    "female_characters['Actor_DOB_year'].describe()"
   ]
  },
  {
   "cell_type": "code",
   "execution_count": 88,
   "metadata": {},
   "outputs": [],
   "source": [
    "def count_words(text):\n",
    "    # Split the text into words and return the length of the list\n",
    "    return len(text.split())"
   ]
  },
  {
   "cell_type": "code",
   "execution_count": 90,
   "metadata": {},
   "outputs": [
    {
     "name": "stderr",
     "output_type": "stream",
     "text": [
      "C:\\Users\\laeti\\AppData\\Local\\Temp\\ipykernel_21220\\3010502312.py:5: SettingWithCopyWarning: \n",
      "A value is trying to be set on a copy of a slice from a DataFrame.\n",
      "Try using .loc[row_indexer,col_indexer] = value instead\n",
      "\n",
      "See the caveats in the documentation: https://pandas.pydata.org/pandas-docs/stable/user_guide/indexing.html#returning-a-view-versus-a-copy\n",
      "  male_characters[\"word_count\"] = male_characters['Character Type'].apply(count_words)\n",
      "C:\\Users\\laeti\\AppData\\Local\\Temp\\ipykernel_21220\\3010502312.py:6: SettingWithCopyWarning: \n",
      "A value is trying to be set on a copy of a slice from a DataFrame.\n",
      "Try using .loc[row_indexer,col_indexer] = value instead\n",
      "\n",
      "See the caveats in the documentation: https://pandas.pydata.org/pandas-docs/stable/user_guide/indexing.html#returning-a-view-versus-a-copy\n",
      "  female_characters[\"word_count\"] = female_characters['Character Type'].apply(count_words)\n"
     ]
    }
   ],
   "source": [
    "#generate one text with all the words contained in the character descriptions\n",
    "male_characters = character_name_only[character_name_only[\"Actor_gender\"] == 'M']\n",
    "female_characters = character_name_only[character_name_only[\"Actor_gender\"] == 'F']\n",
    "\n",
    "male_characters[\"word_count\"] = male_characters['Character Type'].apply(count_words)\n",
    "female_characters[\"word_count\"] = female_characters['Character Type'].apply(count_words)\n",
    "\n",
    "\n",
    "\n",
    "Male_all_text = ' '.join(male_characters['Character Type'])\n",
    "Female_all_text =  \" \".join(review for review in female_characters['Character Type'])"
   ]
  },
  {
   "cell_type": "code",
   "execution_count": 91,
   "metadata": {},
   "outputs": [
    {
     "data": {
      "text/html": [
       "<div>\n",
       "<style scoped>\n",
       "    .dataframe tbody tr th:only-of-type {\n",
       "        vertical-align: middle;\n",
       "    }\n",
       "\n",
       "    .dataframe tbody tr th {\n",
       "        vertical-align: top;\n",
       "    }\n",
       "\n",
       "    .dataframe thead th {\n",
       "        text-align: right;\n",
       "    }\n",
       "</style>\n",
       "<table border=\"1\" class=\"dataframe\">\n",
       "  <thead>\n",
       "    <tr style=\"text-align: right;\">\n",
       "      <th></th>\n",
       "      <th>Character Name</th>\n",
       "      <th>Actor_gender</th>\n",
       "      <th>Actor_height</th>\n",
       "      <th>Actor_ethnicity</th>\n",
       "      <th>Actor_name</th>\n",
       "      <th>Actor_DOB_year</th>\n",
       "      <th>Character Type</th>\n",
       "      <th>word_count</th>\n",
       "    </tr>\n",
       "  </thead>\n",
       "  <tbody>\n",
       "    <tr>\n",
       "      <th>0</th>\n",
       "      <td>Frank Martin</td>\n",
       "      <td>M</td>\n",
       "      <td>175.0</td>\n",
       "      <td>NaN</td>\n",
       "      <td>Jason Statham</td>\n",
       "      <td>1967.0</td>\n",
       "      <td>consummate professional</td>\n",
       "      <td>2</td>\n",
       "    </tr>\n",
       "    <tr>\n",
       "      <th>1</th>\n",
       "      <td>Max Zorin</td>\n",
       "      <td>M</td>\n",
       "      <td>183.0</td>\n",
       "      <td>/m/01qhm_</td>\n",
       "      <td>Christopher Walken</td>\n",
       "      <td>1943.0</td>\n",
       "      <td>corrupt corporate executive</td>\n",
       "      <td>3</td>\n",
       "    </tr>\n",
       "  </tbody>\n",
       "</table>\n",
       "</div>"
      ],
      "text/plain": [
       "  Character Name Actor_gender  Actor_height Actor_ethnicity  \\\n",
       "0   Frank Martin            M         175.0             NaN   \n",
       "1      Max Zorin            M         183.0       /m/01qhm_   \n",
       "\n",
       "           Actor_name  Actor_DOB_year               Character Type  word_count  \n",
       "0       Jason Statham          1967.0      consummate professional           2  \n",
       "1  Christopher Walken          1943.0  corrupt corporate executive           3  "
      ]
     },
     "execution_count": 91,
     "metadata": {},
     "output_type": "execute_result"
    }
   ],
   "source": [
    "male_characters.head(2)"
   ]
  },
  {
   "cell_type": "code",
   "execution_count": 92,
   "metadata": {},
   "outputs": [
    {
     "data": {
      "text/html": [
       "<div>\n",
       "<style scoped>\n",
       "    .dataframe tbody tr th:only-of-type {\n",
       "        vertical-align: middle;\n",
       "    }\n",
       "\n",
       "    .dataframe tbody tr th {\n",
       "        vertical-align: top;\n",
       "    }\n",
       "\n",
       "    .dataframe thead th {\n",
       "        text-align: right;\n",
       "    }\n",
       "</style>\n",
       "<table border=\"1\" class=\"dataframe\">\n",
       "  <thead>\n",
       "    <tr style=\"text-align: right;\">\n",
       "      <th></th>\n",
       "      <th>Character Name</th>\n",
       "      <th>Actor_gender</th>\n",
       "      <th>Actor_height</th>\n",
       "      <th>Actor_ethnicity</th>\n",
       "      <th>Actor_name</th>\n",
       "      <th>Actor_DOB_year</th>\n",
       "      <th>Character Type</th>\n",
       "      <th>word_count</th>\n",
       "    </tr>\n",
       "  </thead>\n",
       "  <tbody>\n",
       "    <tr>\n",
       "      <th>2</th>\n",
       "      <td>Jen Yu</td>\n",
       "      <td>F</td>\n",
       "      <td>163.0</td>\n",
       "      <td>NaN</td>\n",
       "      <td>Zhang Ziyi</td>\n",
       "      <td>1979.0</td>\n",
       "      <td>arrogant kungfu guy</td>\n",
       "      <td>3</td>\n",
       "    </tr>\n",
       "    <tr>\n",
       "      <th>5</th>\n",
       "      <td>Margo Channing</td>\n",
       "      <td>F</td>\n",
       "      <td>160.0</td>\n",
       "      <td>NaN</td>\n",
       "      <td>Bette Davis</td>\n",
       "      <td>1908.0</td>\n",
       "      <td>prima donna</td>\n",
       "      <td>2</td>\n",
       "    </tr>\n",
       "  </tbody>\n",
       "</table>\n",
       "</div>"
      ],
      "text/plain": [
       "   Character Name Actor_gender  Actor_height Actor_ethnicity   Actor_name  \\\n",
       "2          Jen Yu            F         163.0             NaN   Zhang Ziyi   \n",
       "5  Margo Channing            F         160.0             NaN  Bette Davis   \n",
       "\n",
       "   Actor_DOB_year       Character Type  word_count  \n",
       "2          1979.0  arrogant kungfu guy           3  \n",
       "5          1908.0          prima donna           2  "
      ]
     },
     "execution_count": 92,
     "metadata": {},
     "output_type": "execute_result"
    }
   ],
   "source": [
    "female_characters.head(2)"
   ]
  },
  {
   "cell_type": "code",
   "execution_count": 95,
   "metadata": {},
   "outputs": [],
   "source": [
    "#save files \n",
    "save_folder = '../../data/clean/'\n",
    "male_characters.to_csv(save_folder + 'male_character_description.txt', sep=',', index=False)\n",
    "female_characters.to_csv(save_folder + 'female_character_description.txt', sep=',', index=False)"
   ]
  }
 ],
 "metadata": {
  "kernelspec": {
   "display_name": "Python 3",
   "language": "python",
   "name": "python3"
  },
  "language_info": {
   "codemirror_mode": {
    "name": "ipython",
    "version": 3
   },
   "file_extension": ".py",
   "mimetype": "text/x-python",
   "name": "python",
   "nbconvert_exporter": "python",
   "pygments_lexer": "ipython3",
   "version": "3.12.2"
  }
 },
 "nbformat": 4,
 "nbformat_minor": 2
}
